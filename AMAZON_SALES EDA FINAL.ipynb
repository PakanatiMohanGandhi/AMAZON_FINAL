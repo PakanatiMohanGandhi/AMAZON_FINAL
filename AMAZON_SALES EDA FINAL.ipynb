{
  "cells": [
    {
      "cell_type": "markdown",
      "metadata": {
        "id": "z_slMv_KSKSB"
      },
      "source": [
        "# Business Context\n",
        "\n",
        "###AMAZON INDIA\n",
        "\n",
        "## Data available\n",
        "\n",
        "(https://www.kaggle.com/code/daominhthong/amazon-sale-report-eda-and-analysis/input)\n",
        "\n",
        "The data set appears to be taken from an Amazon India sales report.\n",
        "\n",
        "\n",
        "\n",
        "###The Client company needs a data scientist in optimize sales performance, improve fulfillment efficiency and maximize revenue. A Data scientist can give the data-driven insights helps in improving revenue, stream logistics and enhance customer experience.\n",
        "\n",
        "#Business Problem\n",
        "###The Company faces challenges in optimizing sales performance, order fulfillment and customer satisfaction due to high order cancellations, delivery inefficiencies and unclear demand patterns.\n",
        "\n",
        "\n",
        "\n"
      ]
    },
    {
      "cell_type": "markdown",
      "metadata": {
        "id": "uV6oMVLp7blQ"
      },
      "source": [
        "##Data Quality Issues in the Dataset\n",
        "- Missing values The currency and Amount columns have 7800 missing values.\n",
        "- ship-city, ship-state, ship-postal-code, and ship-country have 35 missing values\n",
        "- fulfilled-by have 90,000 missing values.\n",
        "- New and PendingS columns are completely empty.\n",
        "- The Date column is stored as an object (string) instead of a datetime format.\n",
        "- Contains Inconsistent values & Outliers.\n"
      ]
    },
    {
      "cell_type": "markdown",
      "metadata": {
        "id": "qq2u4Eub8mPa"
      },
      "source": [
        "##Interesting Metadata from the Dataset\n",
        "- All sales appear to be from Amazon.in, which indicates a single marketplace source.\n",
        "- The dataset differentiates between Amazon Fulfillment and Merchant Fulfillment\n",
        "- Includes statuses like Shipped, Delivered, and Cancelled, which could provide insights into return rates and logistics issues.\n",
        "- A boolean B2B column is present, allowing segmentation between business and individual customers.\n"
      ]
    },
    {
      "cell_type": "code",
      "execution_count": 40,
      "metadata": {
        "id": "n1YcBb_5Rdy_"
      },
      "outputs": [],
      "source": [
        "import pandas as pd\n",
        "import matplotlib.pyplot as plt\n",
        "import seaborn as sns\n"
      ]
    },
    {
      "cell_type": "code",
      "execution_count": 41,
      "metadata": {
        "id": "L1n0M6iSltG4"
      },
      "outputs": [],
      "source": [
        "df = pd.read_csv('/content/drive/MyDrive/data sets/Amazon india Sale Report.csv')"
      ]
    },
    {
      "cell_type": "code",
      "execution_count": 42,
      "metadata": {
        "colab": {
          "base_uri": "https://localhost:8080/",
          "height": 463
        },
        "id": "T7otuEQemAtY",
        "outputId": "40cd00bf-0194-409c-f260-5c72ef867408"
      },
      "outputs": [
        {
          "data": {
            "application/vnd.google.colaboratory.intrinsic+json": {
              "type": "dataframe",
              "variable_name": "df"
            },
            "text/html": [
              "\n",
              "  <div id=\"df-4659e60a-80b6-426e-bade-4a48fad11f68\" class=\"colab-df-container\">\n",
              "    <div>\n",
              "<style scoped>\n",
              "    .dataframe tbody tr th:only-of-type {\n",
              "        vertical-align: middle;\n",
              "    }\n",
              "\n",
              "    .dataframe tbody tr th {\n",
              "        vertical-align: top;\n",
              "    }\n",
              "\n",
              "    .dataframe thead th {\n",
              "        text-align: right;\n",
              "    }\n",
              "</style>\n",
              "<table border=\"1\" class=\"dataframe\">\n",
              "  <thead>\n",
              "    <tr style=\"text-align: right;\">\n",
              "      <th></th>\n",
              "      <th>index</th>\n",
              "      <th>Order ID</th>\n",
              "      <th>Date</th>\n",
              "      <th>Status</th>\n",
              "      <th>Fulfilment</th>\n",
              "      <th>Sales Channel</th>\n",
              "      <th>ship-service-level</th>\n",
              "      <th>Category</th>\n",
              "      <th>Size</th>\n",
              "      <th>Courier Status</th>\n",
              "      <th>...</th>\n",
              "      <th>currency</th>\n",
              "      <th>Amount</th>\n",
              "      <th>ship-city</th>\n",
              "      <th>ship-state</th>\n",
              "      <th>ship-postal-code</th>\n",
              "      <th>ship-country</th>\n",
              "      <th>B2B</th>\n",
              "      <th>fulfilled-by</th>\n",
              "      <th>New</th>\n",
              "      <th>PendingS</th>\n",
              "    </tr>\n",
              "  </thead>\n",
              "  <tbody>\n",
              "    <tr>\n",
              "      <th>0</th>\n",
              "      <td>0</td>\n",
              "      <td>405-8078784-5731545</td>\n",
              "      <td>04-30-22</td>\n",
              "      <td>Cancelled</td>\n",
              "      <td>Merchant</td>\n",
              "      <td>Amazon.in</td>\n",
              "      <td>Standard</td>\n",
              "      <td>T-shirt</td>\n",
              "      <td>S</td>\n",
              "      <td>On the Way</td>\n",
              "      <td>...</td>\n",
              "      <td>INR</td>\n",
              "      <td>647.62</td>\n",
              "      <td>MUMBAI</td>\n",
              "      <td>MAHARASHTRA</td>\n",
              "      <td>400081.0</td>\n",
              "      <td>IN</td>\n",
              "      <td>False</td>\n",
              "      <td>Easy Ship</td>\n",
              "      <td>NaN</td>\n",
              "      <td>NaN</td>\n",
              "    </tr>\n",
              "    <tr>\n",
              "      <th>1</th>\n",
              "      <td>1</td>\n",
              "      <td>171-9198151-1101146</td>\n",
              "      <td>04-30-22</td>\n",
              "      <td>Shipped - Delivered to Buyer</td>\n",
              "      <td>Merchant</td>\n",
              "      <td>Amazon.in</td>\n",
              "      <td>Standard</td>\n",
              "      <td>Shirt</td>\n",
              "      <td>3XL</td>\n",
              "      <td>Shipped</td>\n",
              "      <td>...</td>\n",
              "      <td>INR</td>\n",
              "      <td>406.00</td>\n",
              "      <td>BENGALURU</td>\n",
              "      <td>KARNATAKA</td>\n",
              "      <td>560085.0</td>\n",
              "      <td>IN</td>\n",
              "      <td>False</td>\n",
              "      <td>Easy Ship</td>\n",
              "      <td>NaN</td>\n",
              "      <td>NaN</td>\n",
              "    </tr>\n",
              "    <tr>\n",
              "      <th>2</th>\n",
              "      <td>2</td>\n",
              "      <td>404-0687676-7273146</td>\n",
              "      <td>04-30-22</td>\n",
              "      <td>Shipped</td>\n",
              "      <td>Amazon</td>\n",
              "      <td>Amazon.in</td>\n",
              "      <td>Expedited</td>\n",
              "      <td>Shirt</td>\n",
              "      <td>XL</td>\n",
              "      <td>Shipped</td>\n",
              "      <td>...</td>\n",
              "      <td>INR</td>\n",
              "      <td>329.00</td>\n",
              "      <td>NAVI MUMBAI</td>\n",
              "      <td>MAHARASHTRA</td>\n",
              "      <td>410210.0</td>\n",
              "      <td>IN</td>\n",
              "      <td>True</td>\n",
              "      <td>NaN</td>\n",
              "      <td>NaN</td>\n",
              "      <td>NaN</td>\n",
              "    </tr>\n",
              "    <tr>\n",
              "      <th>3</th>\n",
              "      <td>3</td>\n",
              "      <td>403-9615377-8133951</td>\n",
              "      <td>04-30-22</td>\n",
              "      <td>Cancelled</td>\n",
              "      <td>Merchant</td>\n",
              "      <td>Amazon.in</td>\n",
              "      <td>Standard</td>\n",
              "      <td>Blazzer</td>\n",
              "      <td>L</td>\n",
              "      <td>On the Way</td>\n",
              "      <td>...</td>\n",
              "      <td>INR</td>\n",
              "      <td>753.33</td>\n",
              "      <td>PUDUCHERRY</td>\n",
              "      <td>PUDUCHERRY</td>\n",
              "      <td>605008.0</td>\n",
              "      <td>IN</td>\n",
              "      <td>False</td>\n",
              "      <td>Easy Ship</td>\n",
              "      <td>NaN</td>\n",
              "      <td>NaN</td>\n",
              "    </tr>\n",
              "    <tr>\n",
              "      <th>4</th>\n",
              "      <td>4</td>\n",
              "      <td>407-1069790-7240320</td>\n",
              "      <td>04-30-22</td>\n",
              "      <td>Shipped</td>\n",
              "      <td>Amazon</td>\n",
              "      <td>Amazon.in</td>\n",
              "      <td>Expedited</td>\n",
              "      <td>Trousers</td>\n",
              "      <td>3XL</td>\n",
              "      <td>Shipped</td>\n",
              "      <td>...</td>\n",
              "      <td>INR</td>\n",
              "      <td>574.00</td>\n",
              "      <td>CHENNAI</td>\n",
              "      <td>TAMIL NADU</td>\n",
              "      <td>600073.0</td>\n",
              "      <td>IN</td>\n",
              "      <td>False</td>\n",
              "      <td>NaN</td>\n",
              "      <td>NaN</td>\n",
              "      <td>NaN</td>\n",
              "    </tr>\n",
              "  </tbody>\n",
              "</table>\n",
              "<p>5 rows × 21 columns</p>\n",
              "</div>\n",
              "    <div class=\"colab-df-buttons\">\n",
              "\n",
              "  <div class=\"colab-df-container\">\n",
              "    <button class=\"colab-df-convert\" onclick=\"convertToInteractive('df-4659e60a-80b6-426e-bade-4a48fad11f68')\"\n",
              "            title=\"Convert this dataframe to an interactive table.\"\n",
              "            style=\"display:none;\">\n",
              "\n",
              "  <svg xmlns=\"http://www.w3.org/2000/svg\" height=\"24px\" viewBox=\"0 -960 960 960\">\n",
              "    <path d=\"M120-120v-720h720v720H120Zm60-500h600v-160H180v160Zm220 220h160v-160H400v160Zm0 220h160v-160H400v160ZM180-400h160v-160H180v160Zm440 0h160v-160H620v160ZM180-180h160v-160H180v160Zm440 0h160v-160H620v160Z\"/>\n",
              "  </svg>\n",
              "    </button>\n",
              "\n",
              "  <style>\n",
              "    .colab-df-container {\n",
              "      display:flex;\n",
              "      gap: 12px;\n",
              "    }\n",
              "\n",
              "    .colab-df-convert {\n",
              "      background-color: #E8F0FE;\n",
              "      border: none;\n",
              "      border-radius: 50%;\n",
              "      cursor: pointer;\n",
              "      display: none;\n",
              "      fill: #1967D2;\n",
              "      height: 32px;\n",
              "      padding: 0 0 0 0;\n",
              "      width: 32px;\n",
              "    }\n",
              "\n",
              "    .colab-df-convert:hover {\n",
              "      background-color: #E2EBFA;\n",
              "      box-shadow: 0px 1px 2px rgba(60, 64, 67, 0.3), 0px 1px 3px 1px rgba(60, 64, 67, 0.15);\n",
              "      fill: #174EA6;\n",
              "    }\n",
              "\n",
              "    .colab-df-buttons div {\n",
              "      margin-bottom: 4px;\n",
              "    }\n",
              "\n",
              "    [theme=dark] .colab-df-convert {\n",
              "      background-color: #3B4455;\n",
              "      fill: #D2E3FC;\n",
              "    }\n",
              "\n",
              "    [theme=dark] .colab-df-convert:hover {\n",
              "      background-color: #434B5C;\n",
              "      box-shadow: 0px 1px 3px 1px rgba(0, 0, 0, 0.15);\n",
              "      filter: drop-shadow(0px 1px 2px rgba(0, 0, 0, 0.3));\n",
              "      fill: #FFFFFF;\n",
              "    }\n",
              "  </style>\n",
              "\n",
              "    <script>\n",
              "      const buttonEl =\n",
              "        document.querySelector('#df-4659e60a-80b6-426e-bade-4a48fad11f68 button.colab-df-convert');\n",
              "      buttonEl.style.display =\n",
              "        google.colab.kernel.accessAllowed ? 'block' : 'none';\n",
              "\n",
              "      async function convertToInteractive(key) {\n",
              "        const element = document.querySelector('#df-4659e60a-80b6-426e-bade-4a48fad11f68');\n",
              "        const dataTable =\n",
              "          await google.colab.kernel.invokeFunction('convertToInteractive',\n",
              "                                                    [key], {});\n",
              "        if (!dataTable) return;\n",
              "\n",
              "        const docLinkHtml = 'Like what you see? Visit the ' +\n",
              "          '<a target=\"_blank\" href=https://colab.research.google.com/notebooks/data_table.ipynb>data table notebook</a>'\n",
              "          + ' to learn more about interactive tables.';\n",
              "        element.innerHTML = '';\n",
              "        dataTable['output_type'] = 'display_data';\n",
              "        await google.colab.output.renderOutput(dataTable, element);\n",
              "        const docLink = document.createElement('div');\n",
              "        docLink.innerHTML = docLinkHtml;\n",
              "        element.appendChild(docLink);\n",
              "      }\n",
              "    </script>\n",
              "  </div>\n",
              "\n",
              "\n",
              "<div id=\"df-dd75ef11-f53e-4f35-82f6-7814cd13406e\">\n",
              "  <button class=\"colab-df-quickchart\" onclick=\"quickchart('df-dd75ef11-f53e-4f35-82f6-7814cd13406e')\"\n",
              "            title=\"Suggest charts\"\n",
              "            style=\"display:none;\">\n",
              "\n",
              "<svg xmlns=\"http://www.w3.org/2000/svg\" height=\"24px\"viewBox=\"0 0 24 24\"\n",
              "     width=\"24px\">\n",
              "    <g>\n",
              "        <path d=\"M19 3H5c-1.1 0-2 .9-2 2v14c0 1.1.9 2 2 2h14c1.1 0 2-.9 2-2V5c0-1.1-.9-2-2-2zM9 17H7v-7h2v7zm4 0h-2V7h2v10zm4 0h-2v-4h2v4z\"/>\n",
              "    </g>\n",
              "</svg>\n",
              "  </button>\n",
              "\n",
              "<style>\n",
              "  .colab-df-quickchart {\n",
              "      --bg-color: #E8F0FE;\n",
              "      --fill-color: #1967D2;\n",
              "      --hover-bg-color: #E2EBFA;\n",
              "      --hover-fill-color: #174EA6;\n",
              "      --disabled-fill-color: #AAA;\n",
              "      --disabled-bg-color: #DDD;\n",
              "  }\n",
              "\n",
              "  [theme=dark] .colab-df-quickchart {\n",
              "      --bg-color: #3B4455;\n",
              "      --fill-color: #D2E3FC;\n",
              "      --hover-bg-color: #434B5C;\n",
              "      --hover-fill-color: #FFFFFF;\n",
              "      --disabled-bg-color: #3B4455;\n",
              "      --disabled-fill-color: #666;\n",
              "  }\n",
              "\n",
              "  .colab-df-quickchart {\n",
              "    background-color: var(--bg-color);\n",
              "    border: none;\n",
              "    border-radius: 50%;\n",
              "    cursor: pointer;\n",
              "    display: none;\n",
              "    fill: var(--fill-color);\n",
              "    height: 32px;\n",
              "    padding: 0;\n",
              "    width: 32px;\n",
              "  }\n",
              "\n",
              "  .colab-df-quickchart:hover {\n",
              "    background-color: var(--hover-bg-color);\n",
              "    box-shadow: 0 1px 2px rgba(60, 64, 67, 0.3), 0 1px 3px 1px rgba(60, 64, 67, 0.15);\n",
              "    fill: var(--button-hover-fill-color);\n",
              "  }\n",
              "\n",
              "  .colab-df-quickchart-complete:disabled,\n",
              "  .colab-df-quickchart-complete:disabled:hover {\n",
              "    background-color: var(--disabled-bg-color);\n",
              "    fill: var(--disabled-fill-color);\n",
              "    box-shadow: none;\n",
              "  }\n",
              "\n",
              "  .colab-df-spinner {\n",
              "    border: 2px solid var(--fill-color);\n",
              "    border-color: transparent;\n",
              "    border-bottom-color: var(--fill-color);\n",
              "    animation:\n",
              "      spin 1s steps(1) infinite;\n",
              "  }\n",
              "\n",
              "  @keyframes spin {\n",
              "    0% {\n",
              "      border-color: transparent;\n",
              "      border-bottom-color: var(--fill-color);\n",
              "      border-left-color: var(--fill-color);\n",
              "    }\n",
              "    20% {\n",
              "      border-color: transparent;\n",
              "      border-left-color: var(--fill-color);\n",
              "      border-top-color: var(--fill-color);\n",
              "    }\n",
              "    30% {\n",
              "      border-color: transparent;\n",
              "      border-left-color: var(--fill-color);\n",
              "      border-top-color: var(--fill-color);\n",
              "      border-right-color: var(--fill-color);\n",
              "    }\n",
              "    40% {\n",
              "      border-color: transparent;\n",
              "      border-right-color: var(--fill-color);\n",
              "      border-top-color: var(--fill-color);\n",
              "    }\n",
              "    60% {\n",
              "      border-color: transparent;\n",
              "      border-right-color: var(--fill-color);\n",
              "    }\n",
              "    80% {\n",
              "      border-color: transparent;\n",
              "      border-right-color: var(--fill-color);\n",
              "      border-bottom-color: var(--fill-color);\n",
              "    }\n",
              "    90% {\n",
              "      border-color: transparent;\n",
              "      border-bottom-color: var(--fill-color);\n",
              "    }\n",
              "  }\n",
              "</style>\n",
              "\n",
              "  <script>\n",
              "    async function quickchart(key) {\n",
              "      const quickchartButtonEl =\n",
              "        document.querySelector('#' + key + ' button');\n",
              "      quickchartButtonEl.disabled = true;  // To prevent multiple clicks.\n",
              "      quickchartButtonEl.classList.add('colab-df-spinner');\n",
              "      try {\n",
              "        const charts = await google.colab.kernel.invokeFunction(\n",
              "            'suggestCharts', [key], {});\n",
              "      } catch (error) {\n",
              "        console.error('Error during call to suggestCharts:', error);\n",
              "      }\n",
              "      quickchartButtonEl.classList.remove('colab-df-spinner');\n",
              "      quickchartButtonEl.classList.add('colab-df-quickchart-complete');\n",
              "    }\n",
              "    (() => {\n",
              "      let quickchartButtonEl =\n",
              "        document.querySelector('#df-dd75ef11-f53e-4f35-82f6-7814cd13406e button');\n",
              "      quickchartButtonEl.style.display =\n",
              "        google.colab.kernel.accessAllowed ? 'block' : 'none';\n",
              "    })();\n",
              "  </script>\n",
              "</div>\n",
              "\n",
              "    </div>\n",
              "  </div>\n"
            ],
            "text/plain": [
              "   index             Order ID      Date                        Status  \\\n",
              "0      0  405-8078784-5731545  04-30-22                     Cancelled   \n",
              "1      1  171-9198151-1101146  04-30-22  Shipped - Delivered to Buyer   \n",
              "2      2  404-0687676-7273146  04-30-22                       Shipped   \n",
              "3      3  403-9615377-8133951  04-30-22                     Cancelled   \n",
              "4      4  407-1069790-7240320  04-30-22                       Shipped   \n",
              "\n",
              "  Fulfilment Sales Channel ship-service-level  Category Size Courier Status  \\\n",
              "0   Merchant     Amazon.in           Standard   T-shirt    S     On the Way   \n",
              "1   Merchant     Amazon.in           Standard     Shirt  3XL        Shipped   \n",
              "2     Amazon     Amazon.in          Expedited     Shirt   XL        Shipped   \n",
              "3   Merchant     Amazon.in           Standard   Blazzer    L     On the Way   \n",
              "4     Amazon     Amazon.in          Expedited  Trousers  3XL        Shipped   \n",
              "\n",
              "   ...  currency  Amount    ship-city   ship-state ship-postal-code  \\\n",
              "0  ...       INR  647.62       MUMBAI  MAHARASHTRA         400081.0   \n",
              "1  ...       INR  406.00    BENGALURU    KARNATAKA         560085.0   \n",
              "2  ...       INR  329.00  NAVI MUMBAI  MAHARASHTRA         410210.0   \n",
              "3  ...       INR  753.33   PUDUCHERRY   PUDUCHERRY         605008.0   \n",
              "4  ...       INR  574.00      CHENNAI   TAMIL NADU         600073.0   \n",
              "\n",
              "   ship-country    B2B  fulfilled-by New  PendingS  \n",
              "0            IN  False     Easy Ship NaN       NaN  \n",
              "1            IN  False     Easy Ship NaN       NaN  \n",
              "2            IN   True           NaN NaN       NaN  \n",
              "3            IN  False     Easy Ship NaN       NaN  \n",
              "4            IN  False           NaN NaN       NaN  \n",
              "\n",
              "[5 rows x 21 columns]"
            ]
          },
          "execution_count": 42,
          "metadata": {},
          "output_type": "execute_result"
        }
      ],
      "source": [
        "df.head()"
      ]
    },
    {
      "cell_type": "code",
      "execution_count": 7,
      "metadata": {
        "colab": {
          "base_uri": "https://localhost:8080/"
        },
        "id": "D30f-ZGXwCNk",
        "outputId": "3f69bb2a-55f2-41c1-91a4-787fd9c0af11"
      },
      "outputs": [
        {
          "data": {
            "text/plain": [
              "(128976, 21)"
            ]
          },
          "execution_count": 7,
          "metadata": {},
          "output_type": "execute_result"
        }
      ],
      "source": [
        "df.shape"
      ]
    },
    {
      "cell_type": "markdown",
      "metadata": {
        "id": "_-xeeF1DplpG"
      },
      "source": [
        "#checking missing values"
      ]
    },
    {
      "cell_type": "code",
      "execution_count": 8,
      "metadata": {
        "colab": {
          "base_uri": "https://localhost:8080/",
          "height": 742
        },
        "id": "bynHNPN_mMZR",
        "outputId": "53404a5d-6d98-4693-b24a-cd1f68fcadaa"
      },
      "outputs": [
        {
          "data": {
            "text/html": [
              "<div>\n",
              "<style scoped>\n",
              "    .dataframe tbody tr th:only-of-type {\n",
              "        vertical-align: middle;\n",
              "    }\n",
              "\n",
              "    .dataframe tbody tr th {\n",
              "        vertical-align: top;\n",
              "    }\n",
              "\n",
              "    .dataframe thead th {\n",
              "        text-align: right;\n",
              "    }\n",
              "</style>\n",
              "<table border=\"1\" class=\"dataframe\">\n",
              "  <thead>\n",
              "    <tr style=\"text-align: right;\">\n",
              "      <th></th>\n",
              "      <th>0</th>\n",
              "    </tr>\n",
              "  </thead>\n",
              "  <tbody>\n",
              "    <tr>\n",
              "      <th>index</th>\n",
              "      <td>0</td>\n",
              "    </tr>\n",
              "    <tr>\n",
              "      <th>Order ID</th>\n",
              "      <td>0</td>\n",
              "    </tr>\n",
              "    <tr>\n",
              "      <th>Date</th>\n",
              "      <td>0</td>\n",
              "    </tr>\n",
              "    <tr>\n",
              "      <th>Status</th>\n",
              "      <td>0</td>\n",
              "    </tr>\n",
              "    <tr>\n",
              "      <th>Fulfilment</th>\n",
              "      <td>0</td>\n",
              "    </tr>\n",
              "    <tr>\n",
              "      <th>Sales Channel</th>\n",
              "      <td>0</td>\n",
              "    </tr>\n",
              "    <tr>\n",
              "      <th>ship-service-level</th>\n",
              "      <td>0</td>\n",
              "    </tr>\n",
              "    <tr>\n",
              "      <th>Category</th>\n",
              "      <td>0</td>\n",
              "    </tr>\n",
              "    <tr>\n",
              "      <th>Size</th>\n",
              "      <td>0</td>\n",
              "    </tr>\n",
              "    <tr>\n",
              "      <th>Courier Status</th>\n",
              "      <td>0</td>\n",
              "    </tr>\n",
              "    <tr>\n",
              "      <th>Qty</th>\n",
              "      <td>0</td>\n",
              "    </tr>\n",
              "    <tr>\n",
              "      <th>currency</th>\n",
              "      <td>7800</td>\n",
              "    </tr>\n",
              "    <tr>\n",
              "      <th>Amount</th>\n",
              "      <td>7800</td>\n",
              "    </tr>\n",
              "    <tr>\n",
              "      <th>ship-city</th>\n",
              "      <td>35</td>\n",
              "    </tr>\n",
              "    <tr>\n",
              "      <th>ship-state</th>\n",
              "      <td>35</td>\n",
              "    </tr>\n",
              "    <tr>\n",
              "      <th>ship-postal-code</th>\n",
              "      <td>35</td>\n",
              "    </tr>\n",
              "    <tr>\n",
              "      <th>ship-country</th>\n",
              "      <td>35</td>\n",
              "    </tr>\n",
              "    <tr>\n",
              "      <th>B2B</th>\n",
              "      <td>0</td>\n",
              "    </tr>\n",
              "    <tr>\n",
              "      <th>fulfilled-by</th>\n",
              "      <td>89713</td>\n",
              "    </tr>\n",
              "    <tr>\n",
              "      <th>New</th>\n",
              "      <td>128976</td>\n",
              "    </tr>\n",
              "    <tr>\n",
              "      <th>PendingS</th>\n",
              "      <td>128976</td>\n",
              "    </tr>\n",
              "  </tbody>\n",
              "</table>\n",
              "</div><br><label><b>dtype:</b> int64</label>"
            ],
            "text/plain": [
              "index                      0\n",
              "Order ID                   0\n",
              "Date                       0\n",
              "Status                     0\n",
              "Fulfilment                 0\n",
              "Sales Channel              0\n",
              "ship-service-level         0\n",
              "Category                   0\n",
              "Size                       0\n",
              "Courier Status             0\n",
              "Qty                        0\n",
              "currency                7800\n",
              "Amount                  7800\n",
              "ship-city                 35\n",
              "ship-state                35\n",
              "ship-postal-code          35\n",
              "ship-country              35\n",
              "B2B                        0\n",
              "fulfilled-by           89713\n",
              "New                   128976\n",
              "PendingS              128976\n",
              "dtype: int64"
            ]
          },
          "execution_count": 8,
          "metadata": {},
          "output_type": "execute_result"
        }
      ],
      "source": [
        "df.isnull().sum()\n"
      ]
    },
    {
      "cell_type": "code",
      "execution_count": 10,
      "metadata": {
        "colab": {
          "base_uri": "https://localhost:8080/",
          "height": 742
        },
        "id": "eyxta8wGpTrZ",
        "outputId": "27948583-b79f-4f2f-b8af-fb14ada48c0c"
      },
      "outputs": [
        {
          "data": {
            "text/html": [
              "<div>\n",
              "<style scoped>\n",
              "    .dataframe tbody tr th:only-of-type {\n",
              "        vertical-align: middle;\n",
              "    }\n",
              "\n",
              "    .dataframe tbody tr th {\n",
              "        vertical-align: top;\n",
              "    }\n",
              "\n",
              "    .dataframe thead th {\n",
              "        text-align: right;\n",
              "    }\n",
              "</style>\n",
              "<table border=\"1\" class=\"dataframe\">\n",
              "  <thead>\n",
              "    <tr style=\"text-align: right;\">\n",
              "      <th></th>\n",
              "      <th>0</th>\n",
              "    </tr>\n",
              "  </thead>\n",
              "  <tbody>\n",
              "    <tr>\n",
              "      <th>index</th>\n",
              "      <td>int64</td>\n",
              "    </tr>\n",
              "    <tr>\n",
              "      <th>Order ID</th>\n",
              "      <td>object</td>\n",
              "    </tr>\n",
              "    <tr>\n",
              "      <th>Date</th>\n",
              "      <td>object</td>\n",
              "    </tr>\n",
              "    <tr>\n",
              "      <th>Status</th>\n",
              "      <td>object</td>\n",
              "    </tr>\n",
              "    <tr>\n",
              "      <th>Fulfilment</th>\n",
              "      <td>object</td>\n",
              "    </tr>\n",
              "    <tr>\n",
              "      <th>Sales Channel</th>\n",
              "      <td>object</td>\n",
              "    </tr>\n",
              "    <tr>\n",
              "      <th>ship-service-level</th>\n",
              "      <td>object</td>\n",
              "    </tr>\n",
              "    <tr>\n",
              "      <th>Category</th>\n",
              "      <td>object</td>\n",
              "    </tr>\n",
              "    <tr>\n",
              "      <th>Size</th>\n",
              "      <td>object</td>\n",
              "    </tr>\n",
              "    <tr>\n",
              "      <th>Courier Status</th>\n",
              "      <td>object</td>\n",
              "    </tr>\n",
              "    <tr>\n",
              "      <th>Qty</th>\n",
              "      <td>int64</td>\n",
              "    </tr>\n",
              "    <tr>\n",
              "      <th>currency</th>\n",
              "      <td>object</td>\n",
              "    </tr>\n",
              "    <tr>\n",
              "      <th>Amount</th>\n",
              "      <td>float64</td>\n",
              "    </tr>\n",
              "    <tr>\n",
              "      <th>ship-city</th>\n",
              "      <td>object</td>\n",
              "    </tr>\n",
              "    <tr>\n",
              "      <th>ship-state</th>\n",
              "      <td>object</td>\n",
              "    </tr>\n",
              "    <tr>\n",
              "      <th>ship-postal-code</th>\n",
              "      <td>float64</td>\n",
              "    </tr>\n",
              "    <tr>\n",
              "      <th>ship-country</th>\n",
              "      <td>object</td>\n",
              "    </tr>\n",
              "    <tr>\n",
              "      <th>B2B</th>\n",
              "      <td>bool</td>\n",
              "    </tr>\n",
              "    <tr>\n",
              "      <th>fulfilled-by</th>\n",
              "      <td>object</td>\n",
              "    </tr>\n",
              "    <tr>\n",
              "      <th>New</th>\n",
              "      <td>float64</td>\n",
              "    </tr>\n",
              "    <tr>\n",
              "      <th>PendingS</th>\n",
              "      <td>float64</td>\n",
              "    </tr>\n",
              "  </tbody>\n",
              "</table>\n",
              "</div><br><label><b>dtype:</b> object</label>"
            ],
            "text/plain": [
              "index                   int64\n",
              "Order ID               object\n",
              "Date                   object\n",
              "Status                 object\n",
              "Fulfilment             object\n",
              "Sales Channel          object\n",
              "ship-service-level     object\n",
              "Category               object\n",
              "Size                   object\n",
              "Courier Status         object\n",
              "Qty                     int64\n",
              "currency               object\n",
              "Amount                float64\n",
              "ship-city              object\n",
              "ship-state             object\n",
              "ship-postal-code      float64\n",
              "ship-country           object\n",
              "B2B                      bool\n",
              "fulfilled-by           object\n",
              "New                   float64\n",
              "PendingS              float64\n",
              "dtype: object"
            ]
          },
          "execution_count": 10,
          "metadata": {},
          "output_type": "execute_result"
        }
      ],
      "source": [
        "df.dtypes"
      ]
    },
    {
      "cell_type": "markdown",
      "metadata": {
        "id": "XU2ee0C0pHbs"
      },
      "source": [
        "#Data Preprocessing"
      ]
    },
    {
      "cell_type": "markdown",
      "metadata": {
        "id": "3bWreigGq_Ay"
      },
      "source": [
        "#converting datetime columns from object to datetime"
      ]
    },
    {
      "cell_type": "code",
      "execution_count": 11,
      "metadata": {
        "colab": {
          "base_uri": "https://localhost:8080/"
        },
        "id": "tlBJGo2wnRlz",
        "outputId": "eb4942fb-93c0-414e-bdfe-149046713f2e"
      },
      "outputs": [
        {
          "name": "stderr",
          "output_type": "stream",
          "text": [
            "<ipython-input-11-0be2cd3793b6>:1: UserWarning: Could not infer format, so each element will be parsed individually, falling back to `dateutil`. To ensure parsing is consistent and as-expected, please specify a format.\n",
            "  df[['Date']] = df[['Date']].apply(pd.to_datetime)\n"
          ]
        }
      ],
      "source": [
        "df[['Date']] = df[['Date']].apply(pd.to_datetime)"
      ]
    },
    {
      "cell_type": "markdown",
      "metadata": {
        "id": "g92H4Dcuq8Zv"
      },
      "source": [
        "#Cleaning missing data\n"
      ]
    },
    {
      "cell_type": "code",
      "execution_count": 12,
      "metadata": {
        "id": "y3tFD8rYqoxr"
      },
      "outputs": [],
      "source": [
        "df.drop(df[df['currency'].isnull()==True].index,axis=0,inplace=True)"
      ]
    },
    {
      "cell_type": "code",
      "execution_count": 13,
      "metadata": {
        "colab": {
          "base_uri": "https://localhost:8080/",
          "height": 742
        },
        "id": "J8DzX-RvrvSi",
        "outputId": "30e66420-d3d0-49ff-d4ca-3a8b17f248e0"
      },
      "outputs": [
        {
          "data": {
            "text/html": [
              "<div>\n",
              "<style scoped>\n",
              "    .dataframe tbody tr th:only-of-type {\n",
              "        vertical-align: middle;\n",
              "    }\n",
              "\n",
              "    .dataframe tbody tr th {\n",
              "        vertical-align: top;\n",
              "    }\n",
              "\n",
              "    .dataframe thead th {\n",
              "        text-align: right;\n",
              "    }\n",
              "</style>\n",
              "<table border=\"1\" class=\"dataframe\">\n",
              "  <thead>\n",
              "    <tr style=\"text-align: right;\">\n",
              "      <th></th>\n",
              "      <th>0</th>\n",
              "    </tr>\n",
              "  </thead>\n",
              "  <tbody>\n",
              "    <tr>\n",
              "      <th>index</th>\n",
              "      <td>0</td>\n",
              "    </tr>\n",
              "    <tr>\n",
              "      <th>Order ID</th>\n",
              "      <td>0</td>\n",
              "    </tr>\n",
              "    <tr>\n",
              "      <th>Date</th>\n",
              "      <td>0</td>\n",
              "    </tr>\n",
              "    <tr>\n",
              "      <th>Status</th>\n",
              "      <td>0</td>\n",
              "    </tr>\n",
              "    <tr>\n",
              "      <th>Fulfilment</th>\n",
              "      <td>0</td>\n",
              "    </tr>\n",
              "    <tr>\n",
              "      <th>Sales Channel</th>\n",
              "      <td>0</td>\n",
              "    </tr>\n",
              "    <tr>\n",
              "      <th>ship-service-level</th>\n",
              "      <td>0</td>\n",
              "    </tr>\n",
              "    <tr>\n",
              "      <th>Category</th>\n",
              "      <td>0</td>\n",
              "    </tr>\n",
              "    <tr>\n",
              "      <th>Size</th>\n",
              "      <td>0</td>\n",
              "    </tr>\n",
              "    <tr>\n",
              "      <th>Courier Status</th>\n",
              "      <td>0</td>\n",
              "    </tr>\n",
              "    <tr>\n",
              "      <th>Qty</th>\n",
              "      <td>0</td>\n",
              "    </tr>\n",
              "    <tr>\n",
              "      <th>currency</th>\n",
              "      <td>0</td>\n",
              "    </tr>\n",
              "    <tr>\n",
              "      <th>Amount</th>\n",
              "      <td>0</td>\n",
              "    </tr>\n",
              "    <tr>\n",
              "      <th>ship-city</th>\n",
              "      <td>33</td>\n",
              "    </tr>\n",
              "    <tr>\n",
              "      <th>ship-state</th>\n",
              "      <td>33</td>\n",
              "    </tr>\n",
              "    <tr>\n",
              "      <th>ship-postal-code</th>\n",
              "      <td>33</td>\n",
              "    </tr>\n",
              "    <tr>\n",
              "      <th>ship-country</th>\n",
              "      <td>33</td>\n",
              "    </tr>\n",
              "    <tr>\n",
              "      <th>B2B</th>\n",
              "      <td>0</td>\n",
              "    </tr>\n",
              "    <tr>\n",
              "      <th>fulfilled-by</th>\n",
              "      <td>83649</td>\n",
              "    </tr>\n",
              "    <tr>\n",
              "      <th>New</th>\n",
              "      <td>121176</td>\n",
              "    </tr>\n",
              "    <tr>\n",
              "      <th>PendingS</th>\n",
              "      <td>121176</td>\n",
              "    </tr>\n",
              "  </tbody>\n",
              "</table>\n",
              "</div><br><label><b>dtype:</b> int64</label>"
            ],
            "text/plain": [
              "index                      0\n",
              "Order ID                   0\n",
              "Date                       0\n",
              "Status                     0\n",
              "Fulfilment                 0\n",
              "Sales Channel              0\n",
              "ship-service-level         0\n",
              "Category                   0\n",
              "Size                       0\n",
              "Courier Status             0\n",
              "Qty                        0\n",
              "currency                   0\n",
              "Amount                     0\n",
              "ship-city                 33\n",
              "ship-state                33\n",
              "ship-postal-code          33\n",
              "ship-country              33\n",
              "B2B                        0\n",
              "fulfilled-by           83649\n",
              "New                   121176\n",
              "PendingS              121176\n",
              "dtype: int64"
            ]
          },
          "execution_count": 13,
          "metadata": {},
          "output_type": "execute_result"
        }
      ],
      "source": [
        "df.isnull().sum()"
      ]
    },
    {
      "cell_type": "code",
      "execution_count": 14,
      "metadata": {
        "id": "rHReC21nr1kF"
      },
      "outputs": [],
      "source": [
        "df.drop(df[df['ship-city'].isnull()==True].index,axis=0,inplace=True)"
      ]
    },
    {
      "cell_type": "code",
      "execution_count": 15,
      "metadata": {
        "colab": {
          "base_uri": "https://localhost:8080/",
          "height": 742
        },
        "id": "NSOlGed-sAe3",
        "outputId": "4157e9d6-5dc1-496b-91e4-b722d809bffc"
      },
      "outputs": [
        {
          "data": {
            "text/html": [
              "<div>\n",
              "<style scoped>\n",
              "    .dataframe tbody tr th:only-of-type {\n",
              "        vertical-align: middle;\n",
              "    }\n",
              "\n",
              "    .dataframe tbody tr th {\n",
              "        vertical-align: top;\n",
              "    }\n",
              "\n",
              "    .dataframe thead th {\n",
              "        text-align: right;\n",
              "    }\n",
              "</style>\n",
              "<table border=\"1\" class=\"dataframe\">\n",
              "  <thead>\n",
              "    <tr style=\"text-align: right;\">\n",
              "      <th></th>\n",
              "      <th>0</th>\n",
              "    </tr>\n",
              "  </thead>\n",
              "  <tbody>\n",
              "    <tr>\n",
              "      <th>index</th>\n",
              "      <td>0</td>\n",
              "    </tr>\n",
              "    <tr>\n",
              "      <th>Order ID</th>\n",
              "      <td>0</td>\n",
              "    </tr>\n",
              "    <tr>\n",
              "      <th>Date</th>\n",
              "      <td>0</td>\n",
              "    </tr>\n",
              "    <tr>\n",
              "      <th>Status</th>\n",
              "      <td>0</td>\n",
              "    </tr>\n",
              "    <tr>\n",
              "      <th>Fulfilment</th>\n",
              "      <td>0</td>\n",
              "    </tr>\n",
              "    <tr>\n",
              "      <th>Sales Channel</th>\n",
              "      <td>0</td>\n",
              "    </tr>\n",
              "    <tr>\n",
              "      <th>ship-service-level</th>\n",
              "      <td>0</td>\n",
              "    </tr>\n",
              "    <tr>\n",
              "      <th>Category</th>\n",
              "      <td>0</td>\n",
              "    </tr>\n",
              "    <tr>\n",
              "      <th>Size</th>\n",
              "      <td>0</td>\n",
              "    </tr>\n",
              "    <tr>\n",
              "      <th>Courier Status</th>\n",
              "      <td>0</td>\n",
              "    </tr>\n",
              "    <tr>\n",
              "      <th>Qty</th>\n",
              "      <td>0</td>\n",
              "    </tr>\n",
              "    <tr>\n",
              "      <th>currency</th>\n",
              "      <td>0</td>\n",
              "    </tr>\n",
              "    <tr>\n",
              "      <th>Amount</th>\n",
              "      <td>0</td>\n",
              "    </tr>\n",
              "    <tr>\n",
              "      <th>ship-city</th>\n",
              "      <td>0</td>\n",
              "    </tr>\n",
              "    <tr>\n",
              "      <th>ship-state</th>\n",
              "      <td>0</td>\n",
              "    </tr>\n",
              "    <tr>\n",
              "      <th>ship-postal-code</th>\n",
              "      <td>0</td>\n",
              "    </tr>\n",
              "    <tr>\n",
              "      <th>ship-country</th>\n",
              "      <td>0</td>\n",
              "    </tr>\n",
              "    <tr>\n",
              "      <th>B2B</th>\n",
              "      <td>0</td>\n",
              "    </tr>\n",
              "    <tr>\n",
              "      <th>fulfilled-by</th>\n",
              "      <td>83629</td>\n",
              "    </tr>\n",
              "    <tr>\n",
              "      <th>New</th>\n",
              "      <td>121143</td>\n",
              "    </tr>\n",
              "    <tr>\n",
              "      <th>PendingS</th>\n",
              "      <td>121143</td>\n",
              "    </tr>\n",
              "  </tbody>\n",
              "</table>\n",
              "</div><br><label><b>dtype:</b> int64</label>"
            ],
            "text/plain": [
              "index                      0\n",
              "Order ID                   0\n",
              "Date                       0\n",
              "Status                     0\n",
              "Fulfilment                 0\n",
              "Sales Channel              0\n",
              "ship-service-level         0\n",
              "Category                   0\n",
              "Size                       0\n",
              "Courier Status             0\n",
              "Qty                        0\n",
              "currency                   0\n",
              "Amount                     0\n",
              "ship-city                  0\n",
              "ship-state                 0\n",
              "ship-postal-code           0\n",
              "ship-country               0\n",
              "B2B                        0\n",
              "fulfilled-by           83629\n",
              "New                   121143\n",
              "PendingS              121143\n",
              "dtype: int64"
            ]
          },
          "execution_count": 15,
          "metadata": {},
          "output_type": "execute_result"
        }
      ],
      "source": [
        "df.isnull().sum()"
      ]
    },
    {
      "cell_type": "markdown",
      "metadata": {
        "id": "pzRxv5tEsIhS"
      },
      "source": [
        "#dropping unnecessary columns"
      ]
    },
    {
      "cell_type": "code",
      "execution_count": 16,
      "metadata": {
        "id": "CVlAaacwsEYr"
      },
      "outputs": [],
      "source": [
        "columns_to_drop = ['New', 'PendingS', 'fulfilled-by']\n",
        "columns_to_drop = [col for col in columns_to_drop if col in df.columns]\n",
        "df.drop(columns_to_drop, axis=1, inplace=True)"
      ]
    },
    {
      "cell_type": "code",
      "execution_count": 17,
      "metadata": {
        "colab": {
          "base_uri": "https://localhost:8080/",
          "height": 648
        },
        "id": "xJk3xk8MtB06",
        "outputId": "cba4d9bf-03da-4f02-dd55-2c5293409997"
      },
      "outputs": [
        {
          "data": {
            "text/html": [
              "<div>\n",
              "<style scoped>\n",
              "    .dataframe tbody tr th:only-of-type {\n",
              "        vertical-align: middle;\n",
              "    }\n",
              "\n",
              "    .dataframe tbody tr th {\n",
              "        vertical-align: top;\n",
              "    }\n",
              "\n",
              "    .dataframe thead th {\n",
              "        text-align: right;\n",
              "    }\n",
              "</style>\n",
              "<table border=\"1\" class=\"dataframe\">\n",
              "  <thead>\n",
              "    <tr style=\"text-align: right;\">\n",
              "      <th></th>\n",
              "      <th>0</th>\n",
              "    </tr>\n",
              "  </thead>\n",
              "  <tbody>\n",
              "    <tr>\n",
              "      <th>index</th>\n",
              "      <td>0</td>\n",
              "    </tr>\n",
              "    <tr>\n",
              "      <th>Order ID</th>\n",
              "      <td>0</td>\n",
              "    </tr>\n",
              "    <tr>\n",
              "      <th>Date</th>\n",
              "      <td>0</td>\n",
              "    </tr>\n",
              "    <tr>\n",
              "      <th>Status</th>\n",
              "      <td>0</td>\n",
              "    </tr>\n",
              "    <tr>\n",
              "      <th>Fulfilment</th>\n",
              "      <td>0</td>\n",
              "    </tr>\n",
              "    <tr>\n",
              "      <th>Sales Channel</th>\n",
              "      <td>0</td>\n",
              "    </tr>\n",
              "    <tr>\n",
              "      <th>ship-service-level</th>\n",
              "      <td>0</td>\n",
              "    </tr>\n",
              "    <tr>\n",
              "      <th>Category</th>\n",
              "      <td>0</td>\n",
              "    </tr>\n",
              "    <tr>\n",
              "      <th>Size</th>\n",
              "      <td>0</td>\n",
              "    </tr>\n",
              "    <tr>\n",
              "      <th>Courier Status</th>\n",
              "      <td>0</td>\n",
              "    </tr>\n",
              "    <tr>\n",
              "      <th>Qty</th>\n",
              "      <td>0</td>\n",
              "    </tr>\n",
              "    <tr>\n",
              "      <th>currency</th>\n",
              "      <td>0</td>\n",
              "    </tr>\n",
              "    <tr>\n",
              "      <th>Amount</th>\n",
              "      <td>0</td>\n",
              "    </tr>\n",
              "    <tr>\n",
              "      <th>ship-city</th>\n",
              "      <td>0</td>\n",
              "    </tr>\n",
              "    <tr>\n",
              "      <th>ship-state</th>\n",
              "      <td>0</td>\n",
              "    </tr>\n",
              "    <tr>\n",
              "      <th>ship-postal-code</th>\n",
              "      <td>0</td>\n",
              "    </tr>\n",
              "    <tr>\n",
              "      <th>ship-country</th>\n",
              "      <td>0</td>\n",
              "    </tr>\n",
              "    <tr>\n",
              "      <th>B2B</th>\n",
              "      <td>0</td>\n",
              "    </tr>\n",
              "  </tbody>\n",
              "</table>\n",
              "</div><br><label><b>dtype:</b> int64</label>"
            ],
            "text/plain": [
              "index                 0\n",
              "Order ID              0\n",
              "Date                  0\n",
              "Status                0\n",
              "Fulfilment            0\n",
              "Sales Channel         0\n",
              "ship-service-level    0\n",
              "Category              0\n",
              "Size                  0\n",
              "Courier Status        0\n",
              "Qty                   0\n",
              "currency              0\n",
              "Amount                0\n",
              "ship-city             0\n",
              "ship-state            0\n",
              "ship-postal-code      0\n",
              "ship-country          0\n",
              "B2B                   0\n",
              "dtype: int64"
            ]
          },
          "execution_count": 17,
          "metadata": {},
          "output_type": "execute_result"
        }
      ],
      "source": [
        "df.isnull().sum()"
      ]
    },
    {
      "cell_type": "code",
      "execution_count": 18,
      "metadata": {
        "colab": {
          "base_uri": "https://localhost:8080/"
        },
        "id": "OPJ_BTmNtFVC",
        "outputId": "de8ec606-acfb-4417-d637-b7acdd268594"
      },
      "outputs": [
        {
          "data": {
            "text/plain": [
              "(121143, 18)"
            ]
          },
          "execution_count": 18,
          "metadata": {},
          "output_type": "execute_result"
        }
      ],
      "source": [
        "df.shape"
      ]
    },
    {
      "cell_type": "markdown",
      "metadata": {
        "id": "XXvMh60vaQo1"
      },
      "source": [
        "#Checking Outliers"
      ]
    },
    {
      "cell_type": "code",
      "execution_count": 19,
      "metadata": {
        "colab": {
          "base_uri": "https://localhost:8080/",
          "height": 428
        },
        "id": "tY4E9OlwaQTW",
        "outputId": "3d8101c9-4e93-47ab-87da-9c15123ba799"
      },
      "outputs": [
        {
          "data": {
            "text/plain": [
              "<Axes: ylabel='Amount'>"
            ]
          },
          "execution_count": 19,
          "metadata": {},
          "output_type": "execute_result"
        },
        {
          "data": {
            "image/png": "[encoded data removed]",
            "text/plain": [
              "<Figure size 640x480 with 1 Axes>"
            ]
          },
          "metadata": {},
          "output_type": "display_data"
        }
      ],
      "source": [
        "sns.boxplot(df['Amount'])"
      ]
    },
    {
      "cell_type": "code",
      "execution_count": 25,
      "metadata": {
        "colab": {
          "base_uri": "https://localhost:8080/"
        },
        "id": "F2bnqFAbbDy2",
        "outputId": "19eee336-e3ec-4de1-a7ef-6fc017d557d0"
      },
      "outputs": [
        {
          "data": {
            "text/plain": [
              "np.float64(1349.0)"
            ]
          },
          "execution_count": 25,
          "metadata": {},
          "output_type": "execute_result"
        }
      ],
      "source": [
        "df['Amount'].quantile(0.98)"
      ]
    },
    {
      "cell_type": "code",
      "execution_count": 26,
      "metadata": {
        "colab": {
          "base_uri": "https://localhost:8080/"
        },
        "id": "03zPtmOmbNu6",
        "outputId": "df79c9e4-fa21-421a-a3c2-3f41d1eabb36"
      },
      "outputs": [
        {
          "data": {
            "text/plain": [
              "(2313, 19)"
            ]
          },
          "execution_count": 26,
          "metadata": {},
          "output_type": "execute_result"
        }
      ],
      "source": [
        "df[df['Amount']>df['Amount'].quantile(0.98)].shape"
      ]
    },
    {
      "cell_type": "code",
      "execution_count": 27,
      "metadata": {
        "id": "Y2wNgFrHbRRV"
      },
      "outputs": [],
      "source": [
        "df.drop(df[df['Amount']>df['Amount'].quantile(0.98)].index,axis=0,inplace=True)"
      ]
    },
    {
      "cell_type": "code",
      "execution_count": 28,
      "metadata": {
        "colab": {
          "base_uri": "https://localhost:8080/",
          "height": 425
        },
        "id": "26BRPUBebVAR",
        "outputId": "a9e47aec-06a2-4526-b6ed-bca6550192a2"
      },
      "outputs": [
        {
          "data": {
            "text/plain": [
              "<Axes: ylabel='Amount'>"
            ]
          },
          "execution_count": 28,
          "metadata": {},
          "output_type": "execute_result"
        },
        {
          "data": {
            "image/png": "[encoded data removed]",
            "text/plain": [
              "<Figure size 640x480 with 1 Axes>"
            ]
          },
          "metadata": {},
          "output_type": "display_data"
        }
      ],
      "source": [
        "sns.boxplot(y=df['Amount'])"
      ]
    },
    {
      "cell_type": "markdown",
      "metadata": {
        "id": "70gMKqUV_VUS"
      },
      "source": [
        "#Explanatory Data Analysis"
      ]
    },
    {
      "cell_type": "markdown",
      "metadata": {
        "id": "pQrQUxBZwXn_"
      },
      "source": [
        "#Business Questions"
      ]
    },
    {
      "cell_type": "markdown",
      "metadata": {
        "id": "agpw-F3HxERb"
      },
      "source": [
        "###1.What are the top selling product Categories?"
      ]
    },
    {
      "cell_type": "code",
      "execution_count": 20,
      "metadata": {
        "id": "QNvzuML19GYu"
      },
      "outputs": [],
      "source": [
        "#Visualization style for clear observation\n",
        "sns.set_style(\"whitegrid\")"
      ]
    },
    {
      "cell_type": "code",
      "execution_count": 30,
      "metadata": {
        "colab": {
          "base_uri": "https://localhost:8080/",
          "height": 526
        },
        "id": "NMGhPvTFvfrH",
        "outputId": "f29bb029-3dd2-4cca-bc70-5f82c030aa88"
      },
      "outputs": [
        {
          "data": {
            "image/png": "[encoded data removed]",
            "text/plain": [
              "<Figure size 800x500 with 1 Axes>"
            ]
          },
          "metadata": {},
          "output_type": "display_data"
        }
      ],
      "source": [
        "plt.figure(figsize=(8, 5))\n",
        "sns.countplot(x=df['Category'], stat='percent',color=\"skyblue\")\n",
        "plt.title(\"Top 10 Selling Product Categories\", fontsize=16)\n",
        "plt.xlabel(\"Category\")\n",
        "plt.ylabel(\"Number of Orders\")\n",
        "plt.xticks(rotation=45)\n",
        "plt.show()"
      ]
    },
    {
      "cell_type": "markdown",
      "metadata": {
        "id": "gJJWWyFw0wJ6"
      },
      "source": [
        "###Findings\n",
        "- T-Shirts are 39% and shirts 38.7% make up most sales.\n",
        "- These categories are the most profitable. Future promotions can focus on them."
      ]
    },
    {
      "cell_type": "markdown",
      "metadata": {
        "id": "cSjCUMH41fJ7"
      },
      "source": [
        "###2.Which Cities contribute the most sales"
      ]
    },
    {
      "cell_type": "code",
      "execution_count": 33,
      "metadata": {
        "colab": {
          "base_uri": "https://localhost:8080/",
          "height": 546
        },
        "id": "fUMXnPjm09Ki",
        "outputId": "5c554ef0-18d1-40a8-f2d7-b6ccf961b34c"
      },
      "outputs": [
        {
          "data": {
            "image/png": "[encoded data removed]",
            "text/plain": [
              "<Figure size 800x500 with 1 Axes>"
            ]
          },
          "metadata": {},
          "output_type": "display_data"
        }
      ],
      "source": [
        "plt.figure(figsize=(8,5))\n",
        "df['ship-city'].value_counts().head(10).plot(kind=\"bar\", color=\"lightcoral\")\n",
        "plt.title(\"Top 10 cities\", fontsize=16)\n",
        "plt.xlabel(\"City\")\n",
        "plt.ylabel(\"Number of Orders\")\n",
        "plt.xticks(rotation=45)\n",
        "plt.show()"
      ]
    },
    {
      "cell_type": "markdown",
      "metadata": {
        "id": "Cuq3Szbt3tLv"
      },
      "source": [
        "###Findings\n",
        "- Bangalore 8.7% , Hyderabad 6.3% and Mumbai 4.8% lead in sales\n",
        "- Targeted marketing in these cities could increase revenue."
      ]
    },
    {
      "cell_type": "markdown",
      "metadata": {
        "id": "WZHNaanx4mqK"
      },
      "source": [
        "###3.What are the peak order months"
      ]
    },
    {
      "cell_type": "code",
      "execution_count": 23,
      "metadata": {
        "colab": {
          "base_uri": "https://localhost:8080/",
          "height": 513
        },
        "id": "fnQ1eUVo0mri",
        "outputId": "a56e7fda-d659-4e6d-ae69-efe8b15b9721"
      },
      "outputs": [
        {
          "data": {
            "image/png": "[encoded data removed]",
            "text/plain": [
              "<Figure size 1000x500 with 1 Axes>"
            ]
          },
          "metadata": {},
          "output_type": "display_data"
        }
      ],
      "source": [
        "df['Month'] = df['Date'].dt.month_name()\n",
        "monthly_orders = df['Month'].value_counts()\n",
        "plt.figure(figsize=(10,5))\n",
        "monthly_orders.plot(kind='bar', color = 'purple')\n",
        "plt.title(\"Peak Order Months\")\n",
        "plt.xlabel(\"Months\")\n",
        "plt.ylabel(\"Number of Orders\")\n",
        "plt.xticks(rotation=45)\n",
        "plt.show()"
      ]
    },
    {
      "cell_type": "markdown",
      "metadata": {
        "id": "6x-4uy3L6JUi"
      },
      "source": [
        "##Findings\n",
        "- April, May and June are the peak order months.\n",
        "- Identifying peak months helps with inventory planning"
      ]
    },
    {
      "cell_type": "markdown",
      "metadata": {
        "id": "IG3JwVyK7E4U"
      },
      "source": [
        "###4.How many orders get cancelled in percentage?"
      ]
    },
    {
      "cell_type": "code",
      "execution_count": 24,
      "metadata": {
        "colab": {
          "base_uri": "https://localhost:8080/",
          "height": 1000
        },
        "id": "ouuTZyYZ6D0k",
        "outputId": "7ebd6916-6f9d-459e-a972-917e6c3cfc83"
      },
      "outputs": [
        {
          "name": "stderr",
          "output_type": "stream",
          "text": [
            "<ipython-input-24-716e875b2864>:2: FutureWarning: \n",
            "\n",
            "Passing `palette` without assigning `hue` is deprecated and will be removed in v0.14.0. Assign the `x` variable to `hue` and set `legend=False` for the same effect.\n",
            "\n",
            "  sns.countplot(x=df['Status'],stat='percent',palette='crest')\n"
          ]
        },
        {
          "data": {
            "image/png": "[encoded data removed]",
            "text/plain": [
              "<Figure size 1600x1000 with 1 Axes>"
            ]
          },
          "metadata": {},
          "output_type": "display_data"
        }
      ],
      "source": [
        "plt.figure(figsize=(16,10))\n",
        "sns.countplot(x=df['Status'],stat='percent',palette='crest')\n",
        "plt.title(\"Order status distribution\", fontsize=16)\n",
        "plt.xlabel(\"Order Status\")\n",
        "plt.ylabel(\"Percentage %\")\n",
        "plt.xticks(rotation=60)\n",
        "plt.show()"
      ]
    },
    {
      "cell_type": "markdown",
      "metadata": {
        "id": "bE3FD1f98qFi"
      },
      "source": [
        "###Findings\n",
        "- 9% of Orders are cancelled\n",
        "- A high cancellation rate may indicate pricing issues, stock unavailability or customer dissatisfaction."
      ]
    },
    {
      "cell_type": "markdown",
      "metadata": {
        "id": "i_il260882sC"
      },
      "source": [
        "###5. Order Quantity Impact on Revenue?"
      ]
    },
    {
      "cell_type": "code",
      "execution_count": 34,
      "metadata": {
        "colab": {
          "base_uri": "https://localhost:8080/",
          "height": 482
        },
        "id": "6dZvGeTw8fsE",
        "outputId": "3585b23e-c8fc-4a88-87c1-a8959b87bccd"
      },
      "outputs": [
        {
          "data": {
            "image/png": "[encoded data removed]",
            "text/plain": [
              "<Figure size 800x500 with 1 Axes>"
            ]
          },
          "metadata": {},
          "output_type": "display_data"
        }
      ],
      "source": [
        "quantity_revenue = df.groupby(\"Qty\")['Amount'].sum()\n",
        "plt.figure(figsize=(8,5))\n",
        "quantity_revenue.plot(kind='bar', color='skyblue')\n",
        "plt.title(\"Total Revenue by Order Quantity\")\n",
        "plt.xlabel(\"Order Quantity\")\n",
        "plt.ylabel(\"Total Revenue\")\n",
        "plt.show()"
      ]
    },
    {
      "cell_type": "markdown",
      "metadata": {
        "id": "4Q67sWK1g9s4"
      },
      "source": [
        "###Findings:\n",
        "- The most common order quantity is 1 item per order.\n",
        "- Orders with higher quantities contribute more to total revenue.\n",
        "- Offering bulk discounts may encourage customers to order more.\n"
      ]
    },
    {
      "cell_type": "markdown",
      "metadata": {
        "id": "rrCib5YzhZoW"
      },
      "source": [
        "###6. How many orders returned and its return rate in percentage?"
      ]
    },
    {
      "cell_type": "code",
      "execution_count": 35,
      "metadata": {
        "colab": {
          "base_uri": "https://localhost:8080/"
        },
        "id": "56S-a5YPg2hs",
        "outputId": "0a8ff8f4-cddc-4ec7-afc9-7b07850dbba2"
      },
      "outputs": [
        {
          "name": "stdout",
          "output_type": "stream",
          "text": [
            "Total Returned Orders: 2039\n",
            "Return Rate: 1.72%\n"
          ]
        }
      ],
      "source": [
        "returned_orders = df[df['Status'].str.contains('Return', na=False)].shape[0]\n",
        "print(f\"Total Returned Orders: {returned_orders}\")\n",
        "return_rate = (returned_orders / df.shape[0]) * 100\n",
        "print(f\"Return Rate: {return_rate:.2f}%\")\n"
      ]
    },
    {
      "cell_type": "markdown",
      "metadata": {
        "id": "jnQhPHjnlZ48"
      },
      "source": [
        "###Findings\n",
        "- The return rate is 1.72%, which is relatively low, indicating that most customers are satisfied with their purchases\n",
        "- A total of 2,039 orders were returned, even a small percentage of returns can indicate potential areas for improvement, such as product quality, delivery accuracy, or customer support efficiency.\n",
        "\n"
      ]
    },
    {
      "cell_type": "markdown",
      "metadata": {
        "id": "wub9wnQGmo2P"
      },
      "source": [
        "##7. What type of products are returned most?\n"
      ]
    },
    {
      "cell_type": "code",
      "execution_count": 36,
      "metadata": {
        "colab": {
          "base_uri": "https://localhost:8080/"
        },
        "id": "Kj5qLyIMk_UZ",
        "outputId": "09d67a0d-a4cd-46c6-a1f8-ae153efdcd8b"
      },
      "outputs": [
        {
          "name": "stdout",
          "output_type": "stream",
          "text": [
            "Most Returned Products:\n",
            "Category\n",
            "T-shirt     790\n",
            "Shirt       744\n",
            "Blazzer     341\n",
            "Trousers    129\n",
            "Perfume      16\n",
            "Wallet       12\n",
            "Socks         6\n",
            "Shoes         1\n",
            "Name: count, dtype: int64\n"
          ]
        }
      ],
      "source": [
        "returned_products = df[df['Status'].str.contains('Return', na=False)]['Category'].value_counts()\n",
        "print(\"Most Returned Products:\")\n",
        "print(returned_products)"
      ]
    },
    {
      "cell_type": "markdown",
      "metadata": {
        "id": "TgcY_9kinIfE"
      },
      "source": [
        "##Findings\n",
        "-  T-shirts are 790, Shirts are 744, and Blazers are (341) these are the highest number of returns, indicating potential issues with size, fit, quality, or customer expectations.\n",
        "\n",
        "- For high-return categories like T-shirts and Shirts, provide more detailed size charts, customer reviews, and product descriptions to help customers make informed choices."
      ]
    },
    {
      "cell_type": "markdown",
      "metadata": {
        "id": "7QmFf6Vbn0AL"
      },
      "source": [
        "##8. What are most ordered size in each product?"
      ]
    },
    {
      "cell_type": "code",
      "execution_count": 37,
      "metadata": {
        "colab": {
          "base_uri": "https://localhost:8080/"
        },
        "id": "cMfU7rrqmzPR",
        "outputId": "85d7f163-14eb-4eff-f094-3a95b97c63be"
      },
      "outputs": [
        {
          "name": "stdout",
          "output_type": "stream",
          "text": [
            "Most Ordered Sizes:\n",
            "Category  Size\n",
            "Blazzer   L       2675\n",
            "          M       2457\n",
            "          XL      2237\n",
            "          S       2090\n",
            "          XXL     2034\n",
            "          3XL     1825\n",
            "          XS      1334\n",
            "Perfume   Free    1072\n",
            "Shirt     L       8334\n",
            "          XL      8156\n",
            "          M       7946\n",
            "          XXL     7177\n",
            "          3XL     5355\n",
            "          S       5355\n",
            "          XS      2887\n",
            "          6XL      631\n",
            "          5XL      468\n",
            "          4XL      357\n",
            "Shoes     Free     153\n",
            "Socks     L         71\n",
            "          XL        70\n",
            "          S         69\n",
            "          3XL       64\n",
            "          XXL       64\n",
            "          M         55\n",
            "          XS        27\n",
            "T-shirt   M       8351\n",
            "          L       7393\n",
            "          XL      6799\n",
            "          S       6581\n",
            "          XXL     5546\n",
            "          3XL     5260\n",
            "          XS      4798\n",
            "          5XL       39\n",
            "          6XL       37\n",
            "          4XL       28\n",
            "Trousers  XL      1786\n",
            "          M       1745\n",
            "          XXL     1724\n",
            "          L       1698\n",
            "          S       1174\n",
            "          3XL     1136\n",
            "          XS       888\n",
            "Wallet    Free     881\n",
            "Watch     Free       3\n",
            "Name: count, dtype: int64\n"
          ]
        }
      ],
      "source": [
        "size_counts = df.groupby('Category')['Size'].value_counts()\n",
        "print(\"Most Ordered Sizes:\")\n",
        "print(size_counts)"
      ]
    },
    {
      "cell_type": "markdown",
      "metadata": {
        "id": "RKAzGW6QoHh2"
      },
      "source": [
        "###Findings\n",
        "- In Blazers, Shirts, T-shirts, and Trousers, the most ordered sizes are L, M, XL, indicating these are the preferred sizes by customers.\n",
        "\n",
        "- Increase stock levels of L, M, and XL sizes for Shirts, T-shirts, and Trousers to prevent stockouts."
      ]
    },
    {
      "cell_type": "markdown",
      "metadata": {
        "id": "m2IhUdttonvD"
      },
      "source": [
        "###9. What percentage of Customers are repeat buyers?"
      ]
    },
    {
      "cell_type": "code",
      "execution_count": 39,
      "metadata": {
        "colab": {
          "base_uri": "https://localhost:8080/"
        },
        "id": "M07_MhwOn38_",
        "outputId": "2f64ca8a-30d1-4afc-8264-e89726df0d55"
      },
      "outputs": [
        {
          "name": "stdout",
          "output_type": "stream",
          "text": [
            "Repeat Customer Rate: 6.76\n"
          ]
        }
      ],
      "source": [
        "repeat_customers = df['Order ID'].duplicated().sum()\n",
        "repeat_customer_rate = (repeat_customers / df.shape[0]) * 100\n",
        "print(f\"Repeat Customer Rate: {repeat_customer_rate:.2f}\")"
      ]
    },
    {
      "cell_type": "markdown",
      "metadata": {
        "id": "Zzi33IG3pq9F"
      },
      "source": [
        "###Findings\n",
        "- A Repeat Customer Rate of 6.76% indicates that only a small percentage of customers are making repeat purchases.\n",
        "- Introduce discounts, rewards, or cashback for repeat purchases.\n",
        "- Improve product quality, packaging, and delivery services.\n",
        "- Offer limited-time discounts or exclusive deals for returning customers.\n",
        "- Identify characteristics of repeat customers and focus on acquiring similar profiles.\n",
        "\n",
        "\n",
        "\n",
        "\n"
      ]
    },
    {
      "cell_type": "markdown",
      "metadata": {
        "id": "9yBXu6ci-EhK"
      },
      "source": [
        "###10. How does B2B sales compare to B2C?"
      ]
    },
    {
      "cell_type": "code",
      "execution_count": 43,
      "metadata": {
        "colab": {
          "base_uri": "https://localhost:8080/",
          "height": 410
        },
        "id": "j4MT3fir-Lpy",
        "outputId": "6bfe24e1-efb1-45f3-dde3-d5b2b06c1080"
      },
      "outputs": [
        {
          "data": {
            "image/png": "[encoded data removed]",
            "text/plain": [
              "<Figure size 600x400 with 1 Axes>"
            ]
          },
          "metadata": {},
          "output_type": "display_data"
        }
      ],
      "source": [
        "b2b_count = df['B2B'].value_counts()\n",
        "plt.figure(figsize=(6,4))\n",
        "b2b_count.plot(kind='bar', color=['lightblue', 'salmon'])\n",
        "plt.title(\"B2B vs B2C Orders\")\n",
        "plt.xlabel(\"Order Type\")\n",
        "plt.ylabel(\"Count\")\n",
        "plt.xticks(ticks=[0,1], labels=[\"B2C\", \"B2B\"], rotation=0)\n",
        "plt.show()"
      ]
    },
    {
      "cell_type": "markdown",
      "metadata": {
        "id": "K7Lhp6Af-PAp"
      },
      "source": [
        "###Findings\n",
        "- 99.3% of orders are B2C\n",
        "- Expanding B2B offerings could create a new revenue stream."
      ]
    },
    {
      "cell_type": "markdown",
      "metadata": {
        "id": "2VYIMMxYyLjX"
      },
      "source": [
        "##Final Discussion & Conclusion\n",
        "\n",
        "###Strengths of the Analysis\n",
        "- The EDA appears to provide a detailed breakdown of Amazon India's sales data, including key metrics like revenue, product performance, and trends.\n",
        "- The use of charts and graphs likely helps in understanding seasonal trends, category performance, and consumer behavior.\n",
        "- EDA helps detect unusual sales patterns, potential fraud, or issues in pricing strategies.\n",
        "- If customer demographics, product categories, and pricing tiers were analyzed separately, it improves targeting strategies.\n",
        "- Expanding B2B offerings could create a new revenue stream."
      ]
    },
    {
      "cell_type": "markdown",
      "metadata": {
        "id": "F-zv9jUKzLF6"
      },
      "source": [
        "##Limitations\n",
        "- If there are missing or inconsistent data points, the conclusions may be biased or misleading.\n",
        "- While EDA helps in understanding historical trends, it doesn’t necessarily provide predictive analytics for future sales performance.\n",
        "- Factors like competitor actions, economic conditions, or advertising spend may not be included in the dataset, limiting the depth of insights."
      ]
    },
    {
      "cell_type": "markdown",
      "metadata": {
        "id": "2RDSlEWczLoD"
      },
      "source": [
        "##Business Insights & Implications\n",
        "- High performing product categories (T-shirts, Shirt)may contribute disproportionately to total sales, indicating where Amazon India should focus marketing efforts.\n",
        "- The peak 3 months suggests the need for aggressive promotional strategies.\n",
        "- Targeted marketing in top 10 cities could increase revenue.\n",
        "- Tshirts & Shirts are frequently purchased, Amazon can optimize its inventory and vendor relationships accordingly.\n",
        "- Expanding B2B offerings could create a new revenue stream.\n",
        "- If discounts or pricing adjustments strongly correlate with increased sales, dynamic pricing strategies could improve revenue.\n",
        "- Gurugram, Thane & Noida show lower sales logistical improvements and targeted promotions necessary.\n"
      ]
    },
    {
      "cell_type": "markdown",
      "metadata": {
        "id": "rEwOYwQo2HMI"
      },
      "source": [
        "##Data-Driven Recommendations\n",
        "- Optimizes Tshirts, shirts and\tincrease ad spend and promotional campaigns for this best-selling items.\n",
        "- Improve inventory management to ensure stock availability for Tshirts, shirts products.\n",
        "- Expanding B2B offerings could create a new revenue stream.\n",
        "- Test different discount structures to find the most effective pricing model.\n",
        "- Offer location-based promotions to drive sales in underperforming areas.\n",
        "- Planning marketing campaigns ahead of peak order months."
      ]
    }
  ],
  "metadata": {
    "colab": {
      "provenance": []
    },
    "kernelspec": {
      "display_name": "Python 3",
      "name": "python3"
    },
    "language_info": {
      "name": "python"
    }
  },
  "nbformat": 4,
  "nbformat_minor": 0
}
